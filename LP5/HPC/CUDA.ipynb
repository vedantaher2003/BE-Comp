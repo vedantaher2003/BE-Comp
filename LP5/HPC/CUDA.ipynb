{
  "nbformat": 4,
  "nbformat_minor": 0,
  "metadata": {
    "colab": {
      "provenance": []
    },
    "kernelspec": {
      "name": "python3",
      "display_name": "Python 3"
    },
    "language_info": {
      "name": "python"
    }
  },
  "cells": [
    {
      "cell_type": "code",
      "execution_count": null,
      "metadata": {
        "colab": {
          "base_uri": "https://localhost:8080/"
        },
        "id": "IJA4Lv6J8Lgt",
        "outputId": "2f8b4d7a-07fc-4c34-f03b-9d3ff55608c8"
      },
      "outputs": [
        {
          "output_type": "stream",
          "name": "stdout",
          "text": [
            "Collecting git+https://github.com/afnan47/cuda.git\n",
            "  Cloning https://github.com/afnan47/cuda.git to /tmp/pip-req-build-fc9af1oc\n",
            "  Running command git clone --filter=blob:none --quiet https://github.com/afnan47/cuda.git /tmp/pip-req-build-fc9af1oc\n",
            "  Resolved https://github.com/afnan47/cuda.git to commit aac710a35f52bb78ab34d2e52517237941399eff\n",
            "  Preparing metadata (setup.py) ... \u001b[?25l\u001b[?25hdone\n",
            "Building wheels for collected packages: NVCCPlugin\n",
            "  Building wheel for NVCCPlugin (setup.py) ... \u001b[?25l\u001b[?25hdone\n",
            "  Created wheel for NVCCPlugin: filename=NVCCPlugin-0.0.2-py3-none-any.whl size=4290 sha256=e29a671993d34b654654105f977bdb7912b3c7df8fdaec8757c3bb6cf1f7f337\n",
            "  Stored in directory: /tmp/pip-ephem-wheel-cache-zgajj71e/wheels/bc/4e/e0/2d86bd15f671dbeb32144013f1159dba09757fde36dc51a963\n",
            "Successfully built NVCCPlugin\n",
            "Installing collected packages: NVCCPlugin\n",
            "Successfully installed NVCCPlugin-0.0.2\n"
          ]
        }
      ],
      "source": [
        "!pip install git+https://github.com/afnan47/cuda.git"
      ]
    },
    {
      "cell_type": "code",
      "source": [
        "%load_ext nvcc_plugin"
      ],
      "metadata": {
        "colab": {
          "base_uri": "https://localhost:8080/"
        },
        "id": "6UjG54KA9AJm",
        "outputId": "008ef063-6cb1-4f85-84bc-0045ab8a91bd"
      },
      "execution_count": null,
      "outputs": [
        {
          "output_type": "stream",
          "name": "stdout",
          "text": [
            "created output directory at /content/src\n",
            "Out bin /content/result.out\n"
          ]
        }
      ]
    },
    {
      "cell_type": "code",
      "source": [
        "%%writefile matrix.cu\n",
        "#include <iostream>\n",
        "#include <cuda.h>\n",
        "#include <chrono>\n",
        "\n",
        "using namespace std;\n",
        "using namespace std::chrono;\n",
        "\n",
        "\n",
        "__global__ void multiply(int* A, int* B, int* C, int M, int N, int K) {\n",
        "    int row = blockIdx.y * blockDim.y + threadIdx.y;\n",
        "    int col = blockIdx.x * blockDim.x + threadIdx.x;\n",
        "\n",
        "    if (row < M && col < K) {\n",
        "        int sum = 0;\n",
        "        for (int i = 0; i < N; i++) {\n",
        "            sum += A[row * N + i] * B[i * K + col];\n",
        "        }\n",
        "        C[row * K + col] = sum;\n",
        "    }\n",
        "}\n",
        "\n",
        "void initialize(int* matrix, int rows, int cols) {\n",
        "    for (int i = 0; i < rows * cols; i++) {\n",
        "        cout << \"Enter element \" << i + 1 << \": \";\n",
        "        cin >> matrix[i];\n",
        "    }\n",
        "}\n",
        "\n",
        "void print(int* matrix, int rows, int cols) {\n",
        "    for (int row = 0; row < rows; row++) {\n",
        "        for (int col = 0; col < cols; col++) {\n",
        "            cout << matrix[row * cols + col] << \" \";\n",
        "        }\n",
        "        cout << '\\n';\n",
        "    }\n",
        "    cout << '\\n';\n",
        "}\n",
        "\n",
        "void sequentialMultiply(int* A, int* B, int* C, int M, int N, int K) {\n",
        "    for (int i = 0; i < M; i++) {\n",
        "        for (int j = 0; j < K; j++) {\n",
        "            int sum = 0;\n",
        "            for (int k = 0; k < N; k++) {\n",
        "                sum += A[i * N + k] * B[k * K + j];\n",
        "            }\n",
        "            C[i * K + j] = sum;\n",
        "        }\n",
        "    }\n",
        "}\n",
        "\n",
        "int main() {\n",
        "    int M, N, K;\n",
        "    cout << \"Enter the number of rows and columns of the first matrix: \";\n",
        "    cin >> M >> N;\n",
        "    cout << \"Enter the number of columns of the second matrix: \";\n",
        "    cin >> K;\n",
        "\n",
        "    int* A, * B, * C;\n",
        "\n",
        "    int matrixSize = M * K;\n",
        "    size_t matrixBytes = matrixSize * sizeof(int);\n",
        "\n",
        "    A = new int[M * N];\n",
        "    B = new int[N * K];\n",
        "    C = new int[M * K];\n",
        "\n",
        "    initialize(A, M, N);\n",
        "    initialize(B, N, K);\n",
        "\n",
        "    cout << \"Matrix A: \\n\";\n",
        "    print(A, M, N);\n",
        "\n",
        "    cout << \"Matrix B: \\n\";\n",
        "    print(B, N, K);\n",
        "\n",
        "    int* X, * Y, * Z;\n",
        "    cudaMalloc(&X, M * N * sizeof(int));\n",
        "    cudaMalloc(&Y, N * K * sizeof(int));\n",
        "    cudaMalloc(&Z, M * K * sizeof(int));\n",
        "\n",
        "    cudaMemcpy(X, A, M * N * sizeof(int), cudaMemcpyHostToDevice);\n",
        "    cudaMemcpy(Y, B, N * K * sizeof(int), cudaMemcpyHostToDevice);\n",
        "\n",
        "    int THREADS = 16;\n",
        "    int BLOCKS = (M + THREADS - 1) / THREADS;\n",
        "\n",
        "    dim3 threads(THREADS, THREADS);\n",
        "    dim3 blocks(BLOCKS, BLOCKS);\n",
        "\n",
        "    // Sequential multiplication\n",
        "    auto start = high_resolution_clock::now();\n",
        "    sequentialMultiply(A, B, C, M, N, K);\n",
        "    auto stop = high_resolution_clock::now();\n",
        "    auto seq_duration = duration_cast<microseconds>(stop - start);\n",
        "\n",
        "    cout << \"Sequential Multiplication of matrix A and B: \\n\";\n",
        "    print(C, M, K);\n",
        "\n",
        "    // Parallel multiplication\n",
        "    start = high_resolution_clock::now();\n",
        "    multiply<<<blocks, threads>>>(X, Y, Z, M, N, K);\n",
        "    cudaMemcpy(C, Z, M * K * sizeof(int), cudaMemcpyDeviceToHost);\n",
        "    stop = high_resolution_clock::now();\n",
        "    auto par_duration = duration_cast<microseconds>(stop - start);\n",
        "\n",
        "    cout << \"Parallel Multiplication of matrix A and B: \\n\";\n",
        "    print(C, M, K);\n",
        "\n",
        "    cout << \"Sequential Multiplication Time: \" << seq_duration.count() << \" microseconds\" << endl;\n",
        "    cout << \"Parallel Multiplication Time: \" << par_duration.count() << \" microseconds\" << endl;\n",
        "\n",
        "    delete[] A;\n",
        "    delete[] B;\n",
        "    delete[] C;\n",
        "\n",
        "    cudaFree(X);\n",
        "    cudaFree(Y);\n",
        "    cudaFree(Z);\n",
        "\n",
        "    return 0;\n",
        "}\n"
      ],
      "metadata": {
        "colab": {
          "base_uri": "https://localhost:8080/"
        },
        "id": "5d8It7MY_T9A",
        "outputId": "17f54d22-bf77-49bd-a13c-6c7ff6d7e9da"
      },
      "execution_count": null,
      "outputs": [
        {
          "output_type": "stream",
          "name": "stdout",
          "text": [
            "Writing matrix.cu\n"
          ]
        }
      ]
    },
    {
      "cell_type": "code",
      "source": [
        "!nvcc matrix.cu -o matrix\n",
        "!./matrix\n"
      ],
      "metadata": {
        "colab": {
          "base_uri": "https://localhost:8080/"
        },
        "id": "qHNIWMN1-R4C",
        "outputId": "511bac46-4f74-4ad1-860f-52468e05f139"
      },
      "execution_count": null,
      "outputs": [
        {
          "output_type": "stream",
          "name": "stdout",
          "text": [
            "\u001b[01m\u001b[0m\u001b[01mmatrix.cu(61)\u001b[0m: \u001b[01;35mwarning\u001b[0m #177-D: variable \u001b[01m\"matrixBytes\"\u001b[0m was declared but never referenced\n",
            "      size_t matrixBytes = matrixSize * sizeof(int);\n",
            "             ^\n",
            "\n",
            "\u001b[01;36m\u001b[0m\u001b[01;36mRemark\u001b[0m: The warnings can be suppressed with \"-diag-suppress <warning-number>\"\n",
            "\n",
            "Enter the number of rows and columns of the first matrix: 2 2\n",
            "Enter the number of columns of the second matrix: 2\n",
            "Enter element 1: 1\n",
            "Enter element 2: 3\n",
            "Enter element 3: 5\n",
            "Enter element 4: 7\n",
            "Enter element 1: 2\n",
            "Enter element 2: 4\n",
            "Enter element 3: 6\n",
            "Enter element 4: 8\n",
            "Matrix A: \n",
            "1 3 \n",
            "5 7 \n",
            "\n",
            "Matrix B: \n",
            "2 4 \n",
            "6 8 \n",
            "\n",
            "Sequential Multiplication of matrix A and B: \n",
            "20 28 \n",
            "52 76 \n",
            "\n",
            "Parallel Multiplication of matrix A and B: \n",
            "20 28 \n",
            "52 76 \n",
            "\n",
            "Sequential Multiplication Time: 0 microseconds\n",
            "Parallel Multiplication Time: 11 microseconds\n"
          ]
        }
      ]
    },
    {
      "cell_type": "code",
      "source": [
        "%%writefile matrix.cu\n",
        "#include <iostream>\n",
        "#include <cuda.h>\n",
        "#include <chrono>\n",
        "\n",
        "using namespace std;\n",
        "using namespace std::chrono;\n",
        "\n",
        "__global__ void add(int* A, int* B, int* C, int size) {\n",
        "    int tid = blockIdx.x * blockDim.x + threadIdx.x;\n",
        "\n",
        "    if (tid < size) {\n",
        "        C[tid] = A[tid] + B[tid];\n",
        "    }\n",
        "}\n",
        "\n",
        "void initialize(int* vector, int size) {\n",
        "    for (int i = 0; i < size; i++) {\n",
        "        cout << \"Enter element \" << i + 1 << \" of the vector: \";\n",
        "        cin >> vector[i];\n",
        "    }\n",
        "}\n",
        "\n",
        "void print(int* vector, int size) {\n",
        "    for (int i = 0; i < size; i++) {\n",
        "        cout << vector[i] << \" \";\n",
        "    }\n",
        "    cout << endl;\n",
        "}\n",
        "\n",
        "void sequentialAddition(int* A, int* B, int* C, int size) {\n",
        "    for (int i = 0; i < size; i++) {\n",
        "        C[i] = A[i] + B[i];\n",
        "    }\n",
        "}\n",
        "\n",
        "int main() {\n",
        "    int N;\n",
        "    cout << \"Enter the size of the vectors: \";\n",
        "    cin >> N;\n",
        "\n",
        "    int* A, * B, * C;\n",
        "\n",
        "    int vectorSize = N;\n",
        "    size_t vectorBytes = vectorSize * sizeof(int);\n",
        "\n",
        "    A = new int[vectorSize];\n",
        "    B = new int[vectorSize];\n",
        "    C = new int[vectorSize];\n",
        "\n",
        "    initialize(A, vectorSize);\n",
        "    initialize(B, vectorSize);\n",
        "\n",
        "    cout << \"Vector A: \";\n",
        "    print(A, N);\n",
        "    cout << \"Vector B: \";\n",
        "    print(B, N);\n",
        "\n",
        "    int* X, * Y, * Z;\n",
        "    cudaMalloc(&X, vectorBytes);\n",
        "    cudaMalloc(&Y, vectorBytes);\n",
        "    cudaMalloc(&Z, vectorBytes);\n",
        "\n",
        "    cudaMemcpy(X, A, vectorBytes, cudaMemcpyHostToDevice);\n",
        "    cudaMemcpy(Y, B, vectorBytes, cudaMemcpyHostToDevice);\n",
        "\n",
        "    int threadsPerBlock = 256;\n",
        "    int blocksPerGrid = (N + threadsPerBlock - 1) / threadsPerBlock;\n",
        "\n",
        "    // Sequential addition\n",
        "    auto start = high_resolution_clock::now();\n",
        "    sequentialAddition(A, B, C, N);\n",
        "    auto stop = high_resolution_clock::now();\n",
        "    auto seq_duration = duration_cast<microseconds>(stop - start);\n",
        "\n",
        "    cout << \"Sequential Addition: \";\n",
        "    print(C, N);\n",
        "\n",
        "    // Parallel addition\n",
        "    start = high_resolution_clock::now();\n",
        "    add<<<blocksPerGrid, threadsPerBlock>>>(X, Y, Z, N);\n",
        "    cudaMemcpy(C, Z, vectorBytes, cudaMemcpyDeviceToHost);\n",
        "    stop = high_resolution_clock::now();\n",
        "    auto par_duration = duration_cast<microseconds>(stop - start);\n",
        "\n",
        "    cout << \"Parallel Addition: \";\n",
        "    print(C, N);\n",
        "\n",
        "    cout << \"Sequential Addition Time: \" << seq_duration.count() << \" microseconds\" << endl;\n",
        "    cout << \"Parallel Addition Time: \" << par_duration.count() << \" microseconds\" << endl;\n",
        "\n",
        "    delete[] A;\n",
        "    delete[] B;\n",
        "    delete[] C;\n",
        "\n",
        "    cudaFree(X);\n",
        "    cudaFree(Y);\n",
        "    cudaFree(Z);\n",
        "\n",
        "    return 0;\n",
        "}\n"
      ],
      "metadata": {
        "colab": {
          "base_uri": "https://localhost:8080/"
        },
        "id": "-ephHsj-FK0H",
        "outputId": "6025e71b-04c9-449d-c05e-7e91fef2cbd4"
      },
      "execution_count": null,
      "outputs": [
        {
          "output_type": "stream",
          "name": "stdout",
          "text": [
            "Overwriting matrix.cu\n"
          ]
        }
      ]
    },
    {
      "cell_type": "code",
      "source": [
        "!nvcc matrix.cu -o matrix\n",
        "!./matrix\n"
      ],
      "metadata": {
        "colab": {
          "base_uri": "https://localhost:8080/"
        },
        "id": "Bl52K9eXFVc8",
        "outputId": "001284c2-f442-4b12-9912-746e8a5a78f8"
      },
      "execution_count": null,
      "outputs": [
        {
          "output_type": "stream",
          "name": "stdout",
          "text": [
            "Enter the size of the vectors: 2\n",
            "Enter element 1 of the vector: 1\n",
            "Enter element 2 of the vector: 2\n",
            "Enter element 1 of the vector: 6\n",
            "Enter element 2 of the vector: 9\n",
            "Vector A: 1 2 \n",
            "Vector B: 6 9 \n",
            "Sequential Addition: 7 11 \n",
            "Parallel Addition: 7 11 \n",
            "Sequential Addition Time: 0 microseconds\n",
            "Parallel Addition Time: 12 microseconds\n"
          ]
        }
      ]
    }
  ]
}